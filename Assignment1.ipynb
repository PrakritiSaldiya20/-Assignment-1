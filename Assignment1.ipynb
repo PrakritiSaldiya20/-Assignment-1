{
 "cells": [
  {
   "cell_type": "code",
   "execution_count": 1,
   "id": "84bd567a-78ce-4e4c-bf67-06a814119bb3",
   "metadata": {},
   "outputs": [],
   "source": [
    "#1\n",
    "a=\"prakriti\"\n",
    "l=[1,4,5,\"prakriti\",True,65.12]\n",
    "b=45.23\n",
    "c=(\"apple\",\"banana\",\"grapes\")"
   ]
  },
  {
   "cell_type": "code",
   "execution_count": 3,
   "id": "3583fafe-95f1-4f29-8204-46b3ed413efe",
   "metadata": {},
   "outputs": [
    {
     "data": {
      "text/plain": [
       "str"
      ]
     },
     "execution_count": 3,
     "metadata": {},
     "output_type": "execute_result"
    }
   ],
   "source": [
    "#2\n",
    "var1=''\n",
    "type(var1)"
   ]
  },
  {
   "cell_type": "code",
   "execution_count": 4,
   "id": "01af5dbe-c4f2-4a3b-a6b8-04c5c9eb167a",
   "metadata": {},
   "outputs": [
    {
     "data": {
      "text/plain": [
       "str"
      ]
     },
     "execution_count": 4,
     "metadata": {},
     "output_type": "execute_result"
    }
   ],
   "source": [
    "var2='[DS,ML,Python]'\n",
    "type(var2)"
   ]
  },
  {
   "cell_type": "code",
   "execution_count": 6,
   "id": "c801c0c1-942f-4860-a4a9-48ebfcaf0b84",
   "metadata": {},
   "outputs": [
    {
     "data": {
      "text/plain": [
       "list"
      ]
     },
     "execution_count": 6,
     "metadata": {},
     "output_type": "execute_result"
    }
   ],
   "source": [
    "var3=['DS','ML','Python']\n",
    "type(var3)"
   ]
  },
  {
   "cell_type": "code",
   "execution_count": 8,
   "id": "6d1fe923-ce1e-4c46-9cb7-a6ccf6c8e6ae",
   "metadata": {},
   "outputs": [
    {
     "data": {
      "text/plain": [
       "float"
      ]
     },
     "execution_count": 8,
     "metadata": {},
     "output_type": "execute_result"
    }
   ],
   "source": [
    "var4=1.\n",
    "type(var4)"
   ]
  },
  {
   "cell_type": "code",
   "execution_count": 9,
   "id": "a485144b-8244-4a03-aa76-b0452c5a679b",
   "metadata": {},
   "outputs": [
    {
     "data": {
      "text/plain": [
       "0.6666666666666666"
      ]
     },
     "execution_count": 9,
     "metadata": {},
     "output_type": "execute_result"
    }
   ],
   "source": [
    "#3\n",
    "# '/' operator is used to divide any number\n",
    "#example\n",
    "4/6"
   ]
  },
  {
   "cell_type": "code",
   "execution_count": 10,
   "id": "ba27af67-2ee6-4346-99c8-eb37490e70f1",
   "metadata": {},
   "outputs": [
    {
     "data": {
      "text/plain": [
       "5"
      ]
     },
     "execution_count": 10,
     "metadata": {},
     "output_type": "execute_result"
    }
   ],
   "source": [
    "# '%' operator is used to give remainder\n",
    "#example\n",
    "5%8"
   ]
  },
  {
   "cell_type": "code",
   "execution_count": 11,
   "id": "70026f18-7ac0-4e21-93c3-b21548e23a41",
   "metadata": {},
   "outputs": [
    {
     "data": {
      "text/plain": [
       "2"
      ]
     },
     "execution_count": 11,
     "metadata": {},
     "output_type": "execute_result"
    }
   ],
   "source": [
    "# '//' operator is used to give integer division\n",
    "#example\n",
    "4//2"
   ]
  },
  {
   "cell_type": "code",
   "execution_count": 12,
   "id": "bf616b09-72c3-45a7-849f-212e3f1f63ee",
   "metadata": {},
   "outputs": [
    {
     "data": {
      "text/plain": [
       "9"
      ]
     },
     "execution_count": 12,
     "metadata": {},
     "output_type": "execute_result"
    }
   ],
   "source": [
    "# '**' operator is used to give power to any number\n",
    "#example\n",
    "3**2"
   ]
  },
  {
   "cell_type": "code",
   "execution_count": 13,
   "id": "d1be7fbd-6664-434f-a94b-d0864c16e532",
   "metadata": {},
   "outputs": [
    {
     "name": "stdout",
     "output_type": "stream",
     "text": [
      "2\n",
      "<class 'int'>\n",
      "4\n",
      "<class 'int'>\n",
      "5\n",
      "<class 'int'>\n",
      "7\n",
      "<class 'int'>\n",
      "6\n",
      "<class 'int'>\n",
      "True\n",
      "<class 'bool'>\n",
      "False\n",
      "<class 'bool'>\n",
      "3.56\n",
      "<class 'float'>\n",
      "nice\n",
      "<class 'str'>\n",
      "40\n",
      "<class 'int'>\n"
     ]
    }
   ],
   "source": [
    "#4\n",
    "l=[2,4,5,7,6,True,False,3.56,\"nice\",40]\n",
    "for i in l:\n",
    "    print(i)\n",
    "    print(type(i))"
   ]
  },
  {
   "cell_type": "code",
   "execution_count": 29,
   "id": "b753943a-1936-4edf-8d1f-b64fcf87406d",
   "metadata": {},
   "outputs": [
    {
     "name": "stdin",
     "output_type": "stream",
     "text": [
      "Enter the value of A:  5\n",
      "Enter the value of B:  5\n"
     ]
    },
    {
     "name": "stdout",
     "output_type": "stream",
     "text": [
      "A is divisible by B and can be divided 1 times.\n"
     ]
    }
   ],
   "source": [
    "#5\n",
    "A = int(input(\"Enter the value of A: \"))\n",
    "B = int(input(\"Enter the value of B: \"))\n",
    "\n",
    "count = 0\n",
    "while A >= B:\n",
    "    if A % B == 0:\n",
    "        A /= B\n",
    "        count += 1\n",
    "    else:\n",
    "        break\n",
    "\n",
    "if count >= 1:\n",
    "    print(f\"A is divisible by B and can be divided {count} times.\")\n",
    "else:\n",
    "    print(\"A is not divisible by B.\")"
   ]
  },
  {
   "cell_type": "code",
   "execution_count": 17,
   "id": "a5cb1a10-854e-4b9b-a94a-208355e59338",
   "metadata": {},
   "outputs": [
    {
     "name": "stdout",
     "output_type": "stream",
     "text": [
      "1\n",
      "element is not divisible by 3\n",
      "2\n",
      "element is not divisible by 3\n",
      "3\n",
      "element is divisible by 3\n",
      "4\n",
      "element is not divisible by 3\n",
      "5\n",
      "element is not divisible by 3\n",
      "6\n",
      "element is divisible by 3\n",
      "7\n",
      "element is not divisible by 3\n",
      "8\n",
      "element is not divisible by 3\n",
      "9\n",
      "element is divisible by 3\n",
      "10\n",
      "element is not divisible by 3\n",
      "11\n",
      "element is not divisible by 3\n",
      "12\n",
      "element is divisible by 3\n",
      "13\n",
      "element is not divisible by 3\n",
      "14\n",
      "element is not divisible by 3\n",
      "15\n",
      "element is divisible by 3\n",
      "16\n",
      "element is not divisible by 3\n",
      "17\n",
      "element is not divisible by 3\n",
      "18\n",
      "element is divisible by 3\n",
      "19\n",
      "element is not divisible by 3\n",
      "20\n",
      "element is not divisible by 3\n",
      "21\n",
      "element is divisible by 3\n",
      "22\n",
      "element is not divisible by 3\n",
      "23\n",
      "element is not divisible by 3\n",
      "24\n",
      "element is divisible by 3\n",
      "25\n",
      "element is not divisible by 3\n"
     ]
    }
   ],
   "source": [
    "#6\n",
    "l=[1,2,3,4,5,6,7,8,9,10,11,12,13,14,15,16,17,18,19,20,21,22,23,24,25]\n",
    "for i in l:\n",
    "    if i%3==0:\n",
    "        print(i)\n",
    "        print(\"element is divisible by 3\")\n",
    "    else:\n",
    "        print(i)\n",
    "        print(\"element is not divisible by 3\")"
   ]
  },
  {
   "cell_type": "code",
   "execution_count": 18,
   "id": "8b4a307d-f988-48c4-973c-f5f2f2041370",
   "metadata": {},
   "outputs": [
    {
     "data": {
      "text/plain": [
       "[3, 7, 8, 9, 'pw', True, 5.82]"
      ]
     },
     "execution_count": 18,
     "metadata": {},
     "output_type": "execute_result"
    }
   ],
   "source": [
    "#7\n",
    "#Mutable Data Types - The values which can be modified\n",
    "l=[3,7,8,9,\"pw\",True,5.82]\n",
    "l"
   ]
  },
  {
   "cell_type": "code",
   "execution_count": 21,
   "id": "dd80cbe3-3109-41f7-a0c0-0aac0d2daab4",
   "metadata": {},
   "outputs": [
    {
     "data": {
      "text/plain": [
       "[3, 7, 8, 800, 'pw', True, 5.82]"
      ]
     },
     "execution_count": 21,
     "metadata": {},
     "output_type": "execute_result"
    }
   ],
   "source": [
    "l[3]=800\n",
    "l"
   ]
  },
  {
   "cell_type": "code",
   "execution_count": 23,
   "id": "5cf40791-d0e7-4061-9d8d-e45f52c314c9",
   "metadata": {},
   "outputs": [],
   "source": [
    "#Immutable Data Types - The values which cannot be changed\n",
    "s=\"hello\""
   ]
  },
  {
   "cell_type": "code",
   "execution_count": 25,
   "id": "fe3a17f0-732d-4b43-88bf-0c69ec7b3c3f",
   "metadata": {},
   "outputs": [
    {
     "data": {
      "text/plain": [
       "'hello'"
      ]
     },
     "execution_count": 25,
     "metadata": {},
     "output_type": "execute_result"
    }
   ],
   "source": [
    "s"
   ]
  },
  {
   "cell_type": "code",
   "execution_count": 27,
   "id": "3da78abd-762f-4ba4-968f-2be1a4c79fbb",
   "metadata": {},
   "outputs": [
    {
     "ename": "NameError",
     "evalue": "name 'd' is not defined",
     "output_type": "error",
     "traceback": [
      "\u001b[0;31m---------------------------------------------------------------------------\u001b[0m",
      "\u001b[0;31mNameError\u001b[0m                                 Traceback (most recent call last)",
      "Cell \u001b[0;32mIn[27], line 1\u001b[0m\n\u001b[0;32m----> 1\u001b[0m s[\u001b[38;5;241m1\u001b[39m]\u001b[38;5;241m=\u001b[39m\u001b[43md\u001b[49m\n\u001b[1;32m      2\u001b[0m s\n\u001b[1;32m      3\u001b[0m \u001b[38;5;66;03m#it will show an error\u001b[39;00m\n",
      "\u001b[0;31mNameError\u001b[0m: name 'd' is not defined"
     ]
    }
   ],
   "source": [
    "s[1]=d\n",
    "s\n",
    "#it will show an error"
   ]
  }
 ],
 "metadata": {
  "kernelspec": {
   "display_name": "Python 3 (ipykernel)",
   "language": "python",
   "name": "python3"
  },
  "language_info": {
   "codemirror_mode": {
    "name": "ipython",
    "version": 3
   },
   "file_extension": ".py",
   "mimetype": "text/x-python",
   "name": "python",
   "nbconvert_exporter": "python",
   "pygments_lexer": "ipython3",
   "version": "3.10.8"
  }
 },
 "nbformat": 4,
 "nbformat_minor": 5
}
